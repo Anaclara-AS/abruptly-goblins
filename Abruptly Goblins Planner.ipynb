{
 "cells": [
  {
   "cell_type": "code",
   "execution_count": 1,
   "metadata": {},
   "outputs": [],
   "source": [
    "gamers = []"
   ]
  },
  {
   "cell_type": "code",
   "execution_count": 2,
   "metadata": {},
   "outputs": [],
   "source": [
    "def add_gamer(gamer, gamers_list):\n",
    "    if gamer.get('name') and gamer.get('availability'):\n",
    "        gamers_list.append(gamer)\n",
    "    else:\n",
    "        print(\"Gamer missing critical information\")"
   ]
  },
  {
   "cell_type": "code",
   "execution_count": 3,
   "metadata": {},
   "outputs": [
    {
     "name": "stdout",
     "output_type": "stream",
     "text": [
      "[{'name': 'Kimberly Warner', 'availability': ['Monday', 'Tuesday', 'Friday']}]\n"
     ]
    }
   ],
   "source": [
    "kimberly = {\n",
    "    'name': \"Kimberly Warner\",\n",
    "    'availability': [\"Monday\", \"Tuesday\", \"Friday\"]\n",
    "}\n",
    "\n",
    "add_gamer(kimberly, gamers)\n",
    "\n",
    "print(gamers)"
   ]
  },
  {
   "cell_type": "code",
   "execution_count": 4,
   "metadata": {},
   "outputs": [],
   "source": [
    "add_gamer({'name':'Thomas Nelson','availability': [\"Tuesday\", \"Thursday\", \"Saturday\"]}, gamers)\n",
    "add_gamer({'name':'Joyce Sellers','availability': [\"Monday\", \"Wednesday\", \"Friday\", \"Saturday\"]}, gamers)\n",
    "add_gamer({'name':'Michelle Reyes','availability': [\"Wednesday\", \"Thursday\", \"Sunday\"]}, gamers)\n",
    "add_gamer({'name':'Stephen Adams','availability': [\"Thursday\", \"Saturday\"]}, gamers)\n",
    "add_gamer({'name': 'Joanne Lynn', 'availability': [\"Monday\", \"Thursday\"]}, gamers)\n",
    "add_gamer({'name':'Latasha Bryan','availability': [\"Monday\", \"Sunday\"]}, gamers)\n",
    "add_gamer({'name':'Crystal Brewer','availability': [\"Thursday\", \"Friday\", \"Saturday\"]}, gamers)\n",
    "add_gamer({'name':'James Barnes Jr.','availability': [\"Tuesday\", \"Wednesday\", \"Thursday\", \"Sunday\"]}, gamers)\n",
    "add_gamer({'name':'Michel Trujillo','availability': [\"Monday\", \"Tuesday\", \"Wednesday\"]}, gamers)"
   ]
  },
  {
   "cell_type": "code",
   "execution_count": 5,
   "metadata": {},
   "outputs": [],
   "source": [
    "def build_daily_frequency_table():\n",
    "    return {'Monday': 0, 'Tuesday': 0, 'Wednesday': 0, 'Thursday': 0, 'Friday': 0, 'Saturday': 0, 'Sunday': 0}\n",
    "\n",
    "count_availability = build_daily_frequency_table()"
   ]
  },
  {
   "cell_type": "code",
   "execution_count": 6,
   "metadata": {},
   "outputs": [],
   "source": [
    "def calculate_availability(gamers_list, available_frequency):\n",
    "    for gamer in gamers_list:\n",
    "        for day in gamer['availability']:\n",
    "            available_frequency[day] += 1\n",
    "            \n",
    "    "
   ]
  },
  {
   "cell_type": "code",
   "execution_count": 7,
   "metadata": {
    "scrolled": true
   },
   "outputs": [
    {
     "name": "stdout",
     "output_type": "stream",
     "text": [
      "{'Monday': 5, 'Tuesday': 4, 'Wednesday': 4, 'Thursday': 6, 'Friday': 3, 'Saturday': 4, 'Sunday': 3}\n"
     ]
    }
   ],
   "source": [
    "calculate_availability(gamers,count_availability)\n",
    "\n",
    "print(count_availability)"
   ]
  },
  {
   "cell_type": "code",
   "execution_count": 8,
   "metadata": {},
   "outputs": [],
   "source": [
    "def find_best_night(availability_table):\n",
    "    best_availability = 0\n",
    "    for day, availability in availability_table.items():\n",
    "        if availability > best_availability:\n",
    "            best_night = day\n",
    "            best_availability = availability\n",
    "    return best_night"
   ]
  },
  {
   "cell_type": "code",
   "execution_count": 9,
   "metadata": {},
   "outputs": [
    {
     "name": "stdout",
     "output_type": "stream",
     "text": [
      "Thursday\n"
     ]
    }
   ],
   "source": [
    "game_night = find_best_night(count_availability)\n",
    "\n",
    "print(game_night)"
   ]
  },
  {
   "cell_type": "code",
   "execution_count": 10,
   "metadata": {},
   "outputs": [
    {
     "name": "stdout",
     "output_type": "stream",
     "text": [
      "[{'name': 'Thomas Nelson', 'availability': ['Tuesday', 'Thursday', 'Saturday']}, {'name': 'Michelle Reyes', 'availability': ['Wednesday', 'Thursday', 'Sunday']}, {'name': 'Stephen Adams', 'availability': ['Thursday', 'Saturday']}, {'name': 'Joanne Lynn', 'availability': ['Monday', 'Thursday']}, {'name': 'Crystal Brewer', 'availability': ['Thursday', 'Friday', 'Saturday']}, {'name': 'James Barnes Jr.', 'availability': ['Tuesday', 'Wednesday', 'Thursday', 'Sunday']}]\n"
     ]
    }
   ],
   "source": [
    "def available_on_night(gamers_list, day):\n",
    "    return [gamer for gamer in gamers_list if day in gamer['availability']]\n",
    "\n",
    "attending_game_night = available_on_night(gamers, game_night)\n",
    "print(attending_game_night)\n"
   ]
  },
  {
   "cell_type": "code",
   "execution_count": 11,
   "metadata": {},
   "outputs": [],
   "source": [
    "form_email = \"Dear {name} the amazing {game} night would be on {day_of_week} please bring snacks haha.\""
   ]
  },
  {
   "cell_type": "code",
   "execution_count": 12,
   "metadata": {},
   "outputs": [
    {
     "name": "stdout",
     "output_type": "stream",
     "text": [
      "Dear Thomas Nelson the amazing Abruptly Goblins! night would be on Thursday please bring snacks haha.\n",
      "Dear Michelle Reyes the amazing Abruptly Goblins! night would be on Thursday please bring snacks haha.\n",
      "Dear Stephen Adams the amazing Abruptly Goblins! night would be on Thursday please bring snacks haha.\n",
      "Dear Joanne Lynn the amazing Abruptly Goblins! night would be on Thursday please bring snacks haha.\n",
      "Dear Crystal Brewer the amazing Abruptly Goblins! night would be on Thursday please bring snacks haha.\n",
      "Dear James Barnes Jr. the amazing Abruptly Goblins! night would be on Thursday please bring snacks haha.\n"
     ]
    }
   ],
   "source": [
    "def send_email(gamers_who_can_attend, day, game):\n",
    "    for gamer in gamers_who_can_attend:\n",
    "        print(form_email.format(name=gamer['name'], day_of_week=day, game=game))\n",
    "        \n",
    "send_email(attending_game_night, game_night, \"Abruptly Goblins!\")"
   ]
  },
  {
   "cell_type": "code",
   "execution_count": 13,
   "metadata": {},
   "outputs": [],
   "source": [
    "unable_to_attend_best_night = [gamer for gamer in gamers if game_night not in gamer['availability']]\n",
    "second_night_availability = build_daily_frequency_table()\n",
    "calculate_availability(unable_to_attend_best_night, second_night_availability)\n",
    "second_night = find_best_night(second_night_availability)"
   ]
  },
  {
   "cell_type": "code",
   "execution_count": 14,
   "metadata": {},
   "outputs": [
    {
     "name": "stdout",
     "output_type": "stream",
     "text": [
      "Dear Kimberly Warner the amazing Abruptly Goblins! night would be on Monday please bring snacks haha.\n",
      "Dear Joyce Sellers the amazing Abruptly Goblins! night would be on Monday please bring snacks haha.\n",
      "Dear Joanne Lynn the amazing Abruptly Goblins! night would be on Monday please bring snacks haha.\n",
      "Dear Latasha Bryan the amazing Abruptly Goblins! night would be on Monday please bring snacks haha.\n",
      "Dear Michel Trujillo the amazing Abruptly Goblins! night would be on Monday please bring snacks haha.\n"
     ]
    }
   ],
   "source": [
    "available_second_game_night = available_on_night(gamers, second_night)\n",
    "send_email(available_second_game_night, second_night, \"Abruptly Goblins!\")"
   ]
  },
  {
   "cell_type": "code",
   "execution_count": null,
   "metadata": {},
   "outputs": [],
   "source": []
  }
 ],
 "metadata": {
  "kernelspec": {
   "display_name": "Python 3",
   "language": "python",
   "name": "python3"
  },
  "language_info": {
   "codemirror_mode": {
    "name": "ipython",
    "version": 3
   },
   "file_extension": ".py",
   "mimetype": "text/x-python",
   "name": "python",
   "nbconvert_exporter": "python",
   "pygments_lexer": "ipython3",
   "version": "3.7.1"
  }
 },
 "nbformat": 4,
 "nbformat_minor": 2
}
